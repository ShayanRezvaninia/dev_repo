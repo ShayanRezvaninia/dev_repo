{
  "nbformat": 4,
  "nbformat_minor": 0,
  "metadata": {
    "colab": {
      "provenance": [],
      "authorship_tag": "ABX9TyPoJfmtHzEhRVjiKZ8dsFnn",
      "include_colab_link": true
    },
    "kernelspec": {
      "name": "python3",
      "display_name": "Python 3"
    },
    "language_info": {
      "name": "python"
    }
  },
  "cells": [
    {
      "cell_type": "markdown",
      "metadata": {
        "id": "view-in-github",
        "colab_type": "text"
      },
      "source": [
        "<a href=\"https://colab.research.google.com/github/ShayanRezvaninia/dev_repo/blob/master/session2.ipynb\" target=\"_parent\"><img src=\"https://colab.research.google.com/assets/colab-badge.svg\" alt=\"Open In Colab\"/></a>"
      ]
    },
    {
      "cell_type": "code",
      "execution_count": 1,
      "metadata": {
        "colab": {
          "base_uri": "https://localhost:8080/"
        },
        "id": "QFpcZby-8YG9",
        "outputId": "2506a616-7db8-4fb3-92e4-46718541ec1d"
      },
      "outputs": [
        {
          "output_type": "stream",
          "name": "stdout",
          "text": [
            "My name is Alice and I am 25 years old.\n"
          ]
        }
      ],
      "source": [
        "name = \"Alice\"\n",
        "age = 25\n",
        "formatted_string = \"My name is {} and I am {} years old.\".format(name, age)\n",
        "print(formatted_string)"
      ]
    },
    {
      "cell_type": "code",
      "source": [
        "\"{name} is {age} years old.\".format(age=29,name=\"Carol\")"
      ],
      "metadata": {
        "colab": {
          "base_uri": "https://localhost:8080/",
          "height": 35
        },
        "id": "dPWMm8WcFLsd",
        "outputId": "4c84d89a-46a7-404c-f8a2-7dc7557c5ba4"
      },
      "execution_count": 3,
      "outputs": [
        {
          "output_type": "execute_result",
          "data": {
            "text/plain": [
              "'Carol is 29 years old.'"
            ],
            "application/vnd.google.colaboratory.intrinsic+json": {
              "type": "string"
            }
          },
          "metadata": {},
          "execution_count": 3
        }
      ]
    },
    {
      "cell_type": "code",
      "source": [
        "name = \"Alice\"\n",
        "age = 25\n",
        "formatted_string = \"My name is %s and I am %d years old.\" % (name, age)\n",
        "print(formatted_string)"
      ],
      "metadata": {
        "colab": {
          "base_uri": "https://localhost:8080/"
        },
        "id": "A5M3jPqJJXUS",
        "outputId": "f25c7bcf-a55b-4e19-92c6-d1f6116180d5"
      },
      "execution_count": 4,
      "outputs": [
        {
          "output_type": "stream",
          "name": "stdout",
          "text": [
            "My name is Alice and I am 25 years old.\n"
          ]
        }
      ]
    },
    {
      "cell_type": "code",
      "source": [
        "my_tuple = (1, 2, 2, 3)  # Allowed, tuple can contain duplicates\n",
        "print(my_tuple)  # Output: (1, 2, 2, 3)\n",
        "\n",
        "my_set = {1, 2, 2, 3}  # Duplicates are automatically removed\n",
        "print(my_set)  # Output: {1, 2, 3}\n"
      ],
      "metadata": {
        "colab": {
          "base_uri": "https://localhost:8080/"
        },
        "id": "xKr8TMngLU6r",
        "outputId": "930b9e4c-eb75-4e2a-ad23-bfeca50f312c"
      },
      "execution_count": 5,
      "outputs": [
        {
          "output_type": "stream",
          "name": "stdout",
          "text": [
            "(1, 2, 2, 3)\n",
            "{1, 2, 3}\n"
          ]
        }
      ]
    },
    {
      "cell_type": "code",
      "source": [
        "# Syntax: {key1: value1, key2: value2, ...}\n",
        "\n",
        "my_dict = {\n",
        "    \"name\": \"Alice\",\n",
        "    \"age\": 25,\n",
        "    \"city\": \"New York\"\n",
        "}\n"
      ],
      "metadata": {
        "id": "5XqWJMNiL7VQ"
      },
      "execution_count": null,
      "outputs": []
    },
    {
      "cell_type": "code",
      "source": [],
      "metadata": {
        "id": "Nvvmm0olQGhF"
      },
      "execution_count": null,
      "outputs": []
    }
  ]
}