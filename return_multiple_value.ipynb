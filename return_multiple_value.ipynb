{
  "nbformat": 4,
  "nbformat_minor": 0,
  "metadata": {
    "colab": {
      "provenance": [],
      "authorship_tag": "ABX9TyNHR70XOJKrOd+8odHiKaoN",
      "include_colab_link": true
    },
    "kernelspec": {
      "name": "python3",
      "display_name": "Python 3"
    },
    "language_info": {
      "name": "python"
    }
  },
  "cells": [
    {
      "cell_type": "markdown",
      "metadata": {
        "id": "view-in-github",
        "colab_type": "text"
      },
      "source": [
        "<a href=\"https://colab.research.google.com/github/ShayanRezvaninia/dev_repo/blob/master/return_multiple_value.ipynb\" target=\"_parent\"><img src=\"https://colab.research.google.com/assets/colab-badge.svg\" alt=\"Open In Colab\"/></a>"
      ]
    },
    {
      "cell_type": "code",
      "execution_count": 1,
      "metadata": {
        "colab": {
          "base_uri": "https://localhost:8080/"
        },
        "id": "KVZ1vGOZVfo6",
        "outputId": "b2028d7d-4abf-4975-9d11-749a194223c1"
      },
      "outputs": [
        {
          "output_type": "stream",
          "name": "stdout",
          "text": [
            "300 20000\n"
          ]
        }
      ],
      "source": [
        "def sum_multiply(x, y):\n",
        "  sum = x+y\n",
        "  multiply = x*y\n",
        "  return sum, multiply\n",
        "\n",
        "\n",
        "sum_xy, multip_xy = sum_multiply(100,200)\n",
        "print(sum_xy, multip_xy )\n"
      ]
    }
  ]
}